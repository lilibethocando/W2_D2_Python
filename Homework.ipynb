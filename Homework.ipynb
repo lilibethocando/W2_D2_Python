{
 "cells": [
  {
   "cell_type": "markdown",
   "id": "a1848704",
   "metadata": {},
   "source": [
    "# Exercise 1\n",
    "Write a program that takes in a user input and prints out how many vowels are in the response"
   ]
  },
  {
   "cell_type": "code",
   "execution_count": 1,
   "id": "c63fc5c2",
   "metadata": {},
   "outputs": [],
   "source": [
    "# \"Example\" -> 3\n",
    "# \"Hello World\" -> 3\n",
    "# \"Brian\" -> 2\n",
    "# \"This is a longer response\" -> 8"
   ]
  },
  {
   "cell_type": "code",
   "execution_count": 2,
   "id": "a32d730a",
   "metadata": {},
   "outputs": [],
   "source": [
    "#From the user's input I need to iterate over the string and count how many vowels there are\n",
    "#Make a string that contains the vowels\n",
    "#Use a for loop and compare the given string with the vowels one\n",
    "#Initialize a count variable\n",
    "#Return that count \n",
    "\n",
    "def vowel_count():\n",
    "    vowels = 'aeiou'\n",
    "    count = 0\n",
    "    user_input = input('Type any word or sentence here:\\n').lower()\n",
    "    for letter in user_input:\n",
    "        if letter in vowels:\n",
    "            count += 1\n",
    "    return count \n",
    "\n"
   ]
  },
  {
   "cell_type": "code",
   "execution_count": 6,
   "id": "67b24102",
   "metadata": {},
   "outputs": [
    {
     "name": "stdout",
     "output_type": "stream",
     "text": [
      "Type any word or sentence here:\n",
      "This is a longer response\n",
      "8\n"
     ]
    }
   ],
   "source": [
    "print(vowel_count())"
   ]
  },
  {
   "cell_type": "markdown",
   "id": "7f117335",
   "metadata": {},
   "source": [
    "# Exercise 2\n",
    "Create a list of names of 4 letters or more and capitalize each name\n",
    "\n",
    "*Double Bonus* Do it using list comprehension"
   ]
  },
  {
   "cell_type": "code",
   "execution_count": null,
   "id": "2ab3d4b6",
   "metadata": {},
   "outputs": [],
   "source": [
    "# Hint: Use help(str) to see methods on string object"
   ]
  },
  {
   "cell_type": "code",
   "execution_count": 7,
   "id": "da08c997",
   "metadata": {},
   "outputs": [],
   "source": [
    "names1 = ['connor', 'connor', 'bob', 'connor', 'evan', 'max', 'evan', 'bob', 'kevin']\n"
   ]
  },
  {
   "cell_type": "code",
   "execution_count": 8,
   "id": "853cfdb6",
   "metadata": {},
   "outputs": [],
   "source": [
    "# Bonus Challenge\n",
    "names2 = ['connor', 'connor', 'bob', 'connor', 'evan', 'max', 'evan', 2, 2, 2, 3, 3, 4, 'bob', 'kevin']"
   ]
  },
  {
   "cell_type": "code",
   "execution_count": 13,
   "id": "4a23dc6c",
   "metadata": {},
   "outputs": [],
   "source": [
    "#Create an empty list\n",
    "#Iterate over the given list (use for loop)\n",
    "#Count the letters in each string, if 4 or more, capitalize and append to the new list\n",
    "\n",
    "def new_names(names):\n",
    "    list_of_names = []\n",
    "    for name in names:\n",
    "        if type(name) == str and len(name) >= 4:\n",
    "            list_of_names.append(name.capitalize())\n",
    "    return list_of_names"
   ]
  },
  {
   "cell_type": "code",
   "execution_count": 14,
   "id": "6c8bcc94",
   "metadata": {},
   "outputs": [
    {
     "name": "stdout",
     "output_type": "stream",
     "text": [
      "['Connor', 'Connor', 'Connor', 'Evan', 'Evan', 'Kevin']\n"
     ]
    }
   ],
   "source": [
    "print(new_names(names2))"
   ]
  },
  {
   "cell_type": "code",
   "execution_count": 18,
   "id": "17d0988d",
   "metadata": {},
   "outputs": [
    {
     "name": "stdout",
     "output_type": "stream",
     "text": [
      "['Connor', 'Connor', 'Connor', 'Evan', 'Evan', 'Kevin']\n"
     ]
    }
   ],
   "source": [
    "# Bonus Challenge\n",
    "comprenhension_list = [name.capitalize() for name in names2 if type(name) == str and len(name) >= 4]\n",
    "print(comprenhension_list)"
   ]
  },
  {
   "cell_type": "code",
   "execution_count": null,
   "id": "af398e06",
   "metadata": {},
   "outputs": [],
   "source": []
  }
 ],
 "metadata": {
  "kernelspec": {
   "display_name": "Python 3 (ipykernel)",
   "language": "python",
   "name": "python3"
  },
  "language_info": {
   "codemirror_mode": {
    "name": "ipython",
    "version": 3
   },
   "file_extension": ".py",
   "mimetype": "text/x-python",
   "name": "python",
   "nbconvert_exporter": "python",
   "pygments_lexer": "ipython3",
   "version": "3.11.5"
  }
 },
 "nbformat": 4,
 "nbformat_minor": 5
}
